{
  "nbformat": 4,
  "nbformat_minor": 0,
  "metadata": {
    "colab": {
      "provenance": []
    },
    "kernelspec": {
      "name": "python3",
      "display_name": "Python 3"
    },
    "language_info": {
      "name": "python"
    }
  },
  "cells": [
    {
      "cell_type": "code",
      "execution_count": null,
      "metadata": {
        "id": "qCbyKCvFLoG9"
      },
      "outputs": [],
      "source": [
        "import cv2"
      ]
    },
    {
      "cell_type": "code",
      "source": [
        "video=cv2.VideoCapture('Megamind.avi')\n"
      ],
      "metadata": {
        "id": "nkC7YOHKLwHu"
      },
      "execution_count": null,
      "outputs": []
    },
    {
      "cell_type": "code",
      "source": [
        "ret=True\n",
        "while ret:\n",
        "    ret, frame=video.read()\n",
        "\n",
        "    if ret:\n",
        "        cv2.imshow('frame',frame)\n",
        "        cv2.waitKey(40)\n"
      ],
      "metadata": {
        "id": "f_50iMqrLzG5"
      },
      "execution_count": null,
      "outputs": []
    },
    {
      "cell_type": "code",
      "source": [
        "video.release()\n",
        "cv2.destroyAllWindows()"
      ],
      "metadata": {
        "id": "DC9-gXOWL22f"
      },
      "execution_count": null,
      "outputs": []
    }
  ]
}